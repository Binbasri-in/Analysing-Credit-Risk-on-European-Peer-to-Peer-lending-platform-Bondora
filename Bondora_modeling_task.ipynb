{
  "cells": [
    {
      "cell_type": "code",
      "execution_count": null,
      "metadata": {
        "id": "p7ZSvE8rlb4Y"
      },
      "outputs": [],
      "source": [
        "import pandas as pd\n",
        "import matplotlib.pyplot as plt\n",
        "import seaborn as sns"
      ]
    },
    {
      "cell_type": "code",
      "execution_count": null,
      "metadata": {
        "id": "tTapZ4OMldIK"
      },
      "outputs": [],
      "source": [
        "df=pd.read_csv('Bond_preprocessed.csv')"
      ]
    },
    {
      "cell_type": "code",
      "execution_count": null,
      "metadata": {
        "id": "zo2GGe2WldPN"
      },
      "outputs": [],
      "source": [
        "#df.rename(columns = {'Default':'default'}, inplace = True)"
      ]
    },
    {
      "cell_type": "code",
      "execution_count": null,
      "metadata": {
        "id": "1myYdegVldSN"
      },
      "outputs": [],
      "source": [
        "for col in df.columns:\n",
        "   if df[col].dtype!='object':\n",
        "        median=df[col].median()\n",
        "        df[col]= df[col].fillna(value=median,axis=0)     "
      ]
    },
    {
      "cell_type": "code",
      "execution_count": null,
      "metadata": {
        "id": "sJoNuDWCldVF"
      },
      "outputs": [],
      "source": [
        "df=df.fillna('unkown')"
      ]
    },
    {
      "cell_type": "code",
      "execution_count": null,
      "metadata": {
        "id": "tOhkhOmJldX1"
      },
      "outputs": [],
      "source": [
        "def find_outliers_IQR(ddf):\n",
        "    for i in df.columns:\n",
        "        if df[i].dtype!='object':\n",
        "            \n",
        "            q1=df[i].quantile(0.25)\n",
        "\n",
        "            q3=df[i].quantile(0.75)\n",
        "\n",
        "            IQR=q3-q1\n",
        "            upper_lim=q3+1.5*IQR\n",
        "            lower_lim=q1-1.5*IQR\n",
        "            outliers = df[i][((df[i]<(q1-1.5*IQR)) | (df[i]>(q3+1.5*IQR)))]\n",
        "\n",
        "            outliers_lower = df[i][((df[i]<(lower_lim)))]\n",
        "            df[i][outliers_lower.index]=(q1-1.5*IQR)\n",
        "        \n",
        "   \n",
        "   \n",
        "            outliers_upper = df[i][((df[i]>(upper_lim)))]\n",
        "            df[i][outliers_upper.index]=(q3+1.5*IQR)\n",
        "      \n",
        "     \n",
        "            print(i)\n",
        "            print(outliers.count())"
      ]
    },
    {
      "cell_type": "code",
      "execution_count": null,
      "metadata": {
        "colab": {
          "base_uri": "https://localhost:8080/"
        },
        "id": "nNQv8Nx2ldaf",
        "outputId": "9103f335-e89d-4048-d380-7b81ade15b82"
      },
      "outputs": [
        {
          "name": "stderr",
          "output_type": "stream",
          "text": [
            "/usr/local/lib/python3.7/dist-packages/ipykernel_launcher.py:15: SettingWithCopyWarning: \n",
            "A value is trying to be set on a copy of a slice from a DataFrame\n",
            "\n",
            "See the caveats in the documentation: https://pandas.pydata.org/pandas-docs/stable/user_guide/indexing.html#returning-a-view-versus-a-copy\n",
            "  from ipykernel import kernelapp as app\n",
            "/usr/local/lib/python3.7/dist-packages/ipykernel_launcher.py:20: SettingWithCopyWarning: \n",
            "A value is trying to be set on a copy of a slice from a DataFrame\n",
            "\n",
            "See the caveats in the documentation: https://pandas.pydata.org/pandas-docs/stable/user_guide/indexing.html#returning-a-view-versus-a-copy\n"
          ]
        },
        {
          "name": "stdout",
          "output_type": "stream",
          "text": [
            "BidsPortfolioManager\n",
            "5216\n",
            "BidsApi\n",
            "14749\n",
            "BidsManual\n",
            "5381\n",
            "Age\n",
            "57\n",
            "AppliedAmount\n",
            "4194\n",
            "Amount\n",
            "4019\n",
            "Interest\n",
            "3286\n",
            "LoanDuration\n",
            "0\n",
            "MonthlyPayment\n",
            "3720\n",
            "IncomeTotal\n",
            "3921\n",
            "ExistingLiabilities\n",
            "2599\n",
            "LiabilitiesTotal\n",
            "3735\n",
            "RefinanceLiabilities\n",
            "8524\n",
            "DebtToIncome\n",
            "4875\n",
            "FreeCash\n",
            "7617\n",
            "MonthlyPaymentDay\n",
            "0\n",
            "CreditScoreEsMicroL\n",
            "11991\n",
            "PrincipalPaymentsMade\n",
            "5884\n",
            "InterestAndPenaltyPaymentsMade\n",
            "6841\n",
            "PrincipalBalance\n",
            "3522\n",
            "InterestAndPenaltyBalance\n",
            "9449\n",
            "NoOfPreviousLoansBeforeLoan\n",
            "11910\n",
            "AmountOfPreviousLoansBeforeLoan\n",
            "7665\n",
            "PreviousRepaymentsBeforeLoan\n",
            "12109\n",
            "PreviousEarlyRepaymentsCountBeforeLoan\n",
            "4340\n",
            "Default\n",
            "0\n"
          ]
        }
      ],
      "source": [
        "find_outliers_IQR(df)"
      ]
    },
    {
      "cell_type": "code",
      "execution_count": null,
      "metadata": {
        "id": "UE1bJZ_prEa2"
      },
      "outputs": [],
      "source": [
        "obj_data=df.select_dtypes('object')\n",
        "num_bondora=df.drop(obj_data.columns,axis=1)"
      ]
    },
    {
      "cell_type": "code",
      "execution_count": null,
      "metadata": {
        "id": "RdCr5cK9nUbP"
      },
      "outputs": [],
      "source": [
        "MutualInfoFeatures=['InterestAndPenaltyBalance','PrincipalPaymentsMade','PrincipalBalance','InterestAndPenaltyPaymentsMade','Interest','Amount','AppliedAmount','MonthlyPayment','PreviousRepaymentsBeforeLoan','BidsPortfolioManager']"
      ]
    },
    {
      "cell_type": "code",
      "execution_count": null,
      "metadata": {
        "id": "YvdIDMcVlddX"
      },
      "outputs": [],
      "source": [
        "from sklearn.ensemble import RandomForestClassifier\n",
        "from sklearn.ensemble import GradientBoostingClassifier\n",
        "from sklearn.preprocessing import StandardScaler\n",
        "from sklearn.neighbors import KNeighborsClassifier\n",
        "from sklearn.model_selection import train_test_split\n",
        "from sklearn.metrics import classification_report, confusion_matrix, accuracy_score\n",
        "from sklearn.svm import SVC\n",
        "from sklearn.datasets import make_classification\n"
      ]
    },
    {
      "cell_type": "code",
      "execution_count": null,
      "metadata": {
        "id": "_CdFuOpUldgL"
      },
      "outputs": [],
      "source": [
        "GB=GradientBoostingClassifier()\n",
        "def GBoostModel(X,y):\n",
        "     sc=StandardScaler()\n",
        "     X=sc.fit_transform(X)\n",
        "     X_train, X_test, y_train, y_test = train_test_split(X, y,test_size=0.25, random_state=0)\n",
        "     GB.fit(X_train,y_train)\n",
        "     y_predict=GB.predict(X_test)\n",
        "     print(confusion_matrix(y_test,y_predict))\n",
        "     print(classification_report(y_test,y_predict))\n",
        "     print(accuracy_score(y_test, y_predict))"
      ]
    },
    {
      "cell_type": "code",
      "execution_count": null,
      "metadata": {
        "colab": {
          "base_uri": "https://localhost:8080/"
        },
        "id": "O7OgyezJoJjf",
        "outputId": "f3837c01-f8bc-453e-88f7-c5494afa992f"
      },
      "outputs": [
        {
          "name": "stdout",
          "output_type": "stream",
          "text": [
            "[[8459  211]\n",
            " [1329 9350]]\n",
            "              precision    recall  f1-score   support\n",
            "\n",
            "         0.0       0.86      0.98      0.92      8670\n",
            "         1.0       0.98      0.88      0.92     10679\n",
            "\n",
            "    accuracy                           0.92     19349\n",
            "   macro avg       0.92      0.93      0.92     19349\n",
            "weighted avg       0.93      0.92      0.92     19349\n",
            "\n",
            "0.9204093234792495\n"
          ]
        }
      ],
      "source": [
        "y=df[\"Default\"]\n",
        "X=num_bondora.drop(\"Default\", axis=1)\n",
        "GBoostModel(X,y)"
      ]
    },
    {
      "cell_type": "code",
      "execution_count": null,
      "metadata": {
        "id": "4gFdMNW4oJud"
      },
      "outputs": [],
      "source": [
        "def Logistic_Regression(X):\n",
        "    \n",
        "    classifier = LogisticRegression(random_state = 0)\n",
        "    \n",
        "    sc=StandardScaler()\n",
        "    X=sc.fit_transform(X)\n",
        "    X_train, X_test, y_train, y_test = train_test_split(X, y,test_size=0.25, random_state=16)\n",
        "    classifier.fit(X_train, y_train)\n",
        "    y_pred = classifier.predict(X_test)\n",
        "    print(confusion_matrix(y_test,y_pred))\n",
        "    print(classification_report(y_test,y_pred))\n",
        "    print(\"Accuracy:\",metrics.accuracy_score(y_test, y_pred))"
      ]
    },
    {
      "cell_type": "code",
      "execution_count": null,
      "metadata": {
        "id": "v5tYrSdJtkny"
      },
      "outputs": [],
      "source": [
        "import numpy as np\n",
        "from sklearn.linear_model import LogisticRegression\n",
        "from sklearn.metrics import classification_report, confusion_matrix\n",
        "from sklearn import metrics"
      ]
    },
    {
      "cell_type": "code",
      "execution_count": null,
      "metadata": {
        "colab": {
          "base_uri": "https://localhost:8080/"
        },
        "id": "lRsSbTW-rCyf",
        "outputId": "d2d243b8-634e-4184-fc32-8731817091e9"
      },
      "outputs": [
        {
          "name": "stdout",
          "output_type": "stream",
          "text": [
            "[[8423  210]\n",
            " [2031 8685]]\n",
            "              precision    recall  f1-score   support\n",
            "\n",
            "         0.0       0.81      0.98      0.88      8633\n",
            "         1.0       0.98      0.81      0.89     10716\n",
            "\n",
            "    accuracy                           0.88     19349\n",
            "   macro avg       0.89      0.89      0.88     19349\n",
            "weighted avg       0.90      0.88      0.88     19349\n",
            "\n",
            "Accuracy: 0.8841800609850639\n"
          ]
        }
      ],
      "source": [
        "y=df[\"Default\"]\n",
        "X=num_bondora.loc[:, MutualInfoFeatures]\n",
        "Logistic_Regression(X)"
      ]
    },
    {
      "cell_type": "code",
      "execution_count": null,
      "metadata": {
        "id": "rLU_lSYTrDBO"
      },
      "outputs": [],
      "source": [
        "svc=SVC()\n",
        "def SVMModel(X):\n",
        "   \n",
        "     sc=StandardScaler()\n",
        "     X=sc.fit_transform(X)\n",
        "     X_train, X_test, y_train, y_test = train_test_split(X, y,test_size=0.25, random_state=0)\n",
        "     svc.fit(X_train,y_train)\n",
        "     y_predict=svc.predict(X_test)\n",
        "     print(confusion_matrix(y_test,y_predict))\n",
        "     print(classification_report(y_test,y_predict))\n",
        "     print(accuracy_score(y_test, y_predict))"
      ]
    },
    {
      "cell_type": "code",
      "execution_count": null,
      "metadata": {
        "colab": {
          "base_uri": "https://localhost:8080/"
        },
        "id": "mZUbGD8XbXK5",
        "outputId": "4064e11f-f81f-4a7b-9536-251e44dd024d"
      },
      "outputs": [
        {
          "name": "stdout",
          "output_type": "stream",
          "text": [
            "[[8549  121]\n",
            " [1350 9329]]\n",
            "              precision    recall  f1-score   support\n",
            "\n",
            "         0.0       0.86      0.99      0.92      8670\n",
            "         1.0       0.99      0.87      0.93     10679\n",
            "\n",
            "    accuracy                           0.92     19349\n",
            "   macro avg       0.93      0.93      0.92     19349\n",
            "weighted avg       0.93      0.92      0.92     19349\n",
            "\n",
            "0.923975399245439\n"
          ]
        }
      ],
      "source": [
        "SVMModel(X)"
      ]
    },
    {
      "cell_type": "code",
      "execution_count": null,
      "metadata": {
        "id": "5Fjdmj_lcD1e"
      },
      "outputs": [],
      "source": [
        "x_train, x_test, y_train, y_test = train_test_split(X, y, test_size=0.25, random_state=45)"
      ]
    },
    {
      "cell_type": "code",
      "execution_count": null,
      "metadata": {
        "colab": {
          "base_uri": "https://localhost:8080/"
        },
        "id": "TZjv8yx9bb_T",
        "outputId": "92b6e55a-36da-438c-c869-3c139639acb4"
      },
      "outputs": [
        {
          "data": {
            "text/plain": [
              "0.9255258669698693"
            ]
          },
          "execution_count": 34,
          "metadata": {},
          "output_type": "execute_result"
        }
      ],
      "source": [
        "from sklearn.pipeline import Pipeline\n",
        "\n",
        "model_2 = Pipeline([('Scaler', StandardScaler()), ('SVC', SVC())])\n",
        "model_2.fit(x_train, y_train)\n",
        "model_2.score(x_test, y_test)"
      ]
    },
    {
      "cell_type": "code",
      "execution_count": null,
      "metadata": {
        "colab": {
          "background_save": true,
          "base_uri": "https://localhost:8080/"
        },
        "id": "xXjxIXhJcIlz",
        "outputId": "ea6e7af0-6989-48dd-ae5a-94831ce2e8bd"
      },
      "outputs": [
        {
          "name": "stdout",
          "output_type": "stream",
          "text": [
            "Fitting 5 folds for each of 12 candidates, totalling 60 fits\n",
            "{'SVC__C': 1000, 'SVC__gamma': 0.01, 'SVC__kernel': 'rbf'}\n",
            "Pipeline(steps=[('Scaler', StandardScaler()), ('SVC', SVC(C=1000, gamma=0.01))])\n"
          ]
        },
        {
          "data": {
            "text/plain": [
              "0.946457181249677"
            ]
          },
          "execution_count": 36,
          "metadata": {},
          "output_type": "execute_result"
        }
      ],
      "source": [
        "from sklearn.model_selection import GridSearchCV\n",
        "param_grid = [\n",
        "  {'SVC__C': [1, 10, 100, 1000], 'SVC__gamma': [0.01, 0.001, 0.0001], 'SVC__kernel': ['rbf']},\n",
        " ]\n",
        "grid = GridSearchCV(model_2, param_grid, n_jobs=-1, verbose=True)\n",
        "grid.fit(x_train, y_train)\n",
        "\n",
        "# Get the best Parameters and estimator\n",
        "print(grid.best_params_)\n",
        "print(grid.best_estimator_)\n",
        "grid.score(x_test, y_test)"
      ]
    },
    {
      "cell_type": "code",
      "execution_count": null,
      "metadata": {
        "id": "ogAnxSApcq-3"
      },
      "outputs": [],
      "source": []
    }
  ],
  "metadata": {
    "colab": {
      "provenance": []
    },
    "kernelspec": {
      "display_name": "Python 3",
      "name": "python3"
    },
    "language_info": {
      "name": "python"
    }
  },
  "nbformat": 4,
  "nbformat_minor": 0
}