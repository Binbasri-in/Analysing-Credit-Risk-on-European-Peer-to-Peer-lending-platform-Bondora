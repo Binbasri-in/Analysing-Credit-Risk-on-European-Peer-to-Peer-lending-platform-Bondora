{
 "cells": [
  {
   "cell_type": "code",
   "execution_count": 1,
   "id": "145716bc",
   "metadata": {},
   "outputs": [],
   "source": [
    "import pandas as pd\n",
    "import numpy as np\n",
    "import warnings\n",
    "warnings.filterwarnings(\"ignore\")"
   ]
  },
  {
   "cell_type": "code",
   "execution_count": 2,
   "id": "4afbfbea",
   "metadata": {},
   "outputs": [],
   "source": [
    "df = pd.read_csv('Bondora_raw.csv')"
   ]
  },
  {
   "cell_type": "code",
   "execution_count": 3,
   "id": "1c7818c9",
   "metadata": {
    "scrolled": true
   },
   "outputs": [
    {
     "data": {
      "text/html": [
       "<div>\n",
       "<style scoped>\n",
       "    .dataframe tbody tr th:only-of-type {\n",
       "        vertical-align: middle;\n",
       "    }\n",
       "\n",
       "    .dataframe tbody tr th {\n",
       "        vertical-align: top;\n",
       "    }\n",
       "\n",
       "    .dataframe thead th {\n",
       "        text-align: right;\n",
       "    }\n",
       "</style>\n",
       "<table border=\"1\" class=\"dataframe\">\n",
       "  <thead>\n",
       "    <tr style=\"text-align: right;\">\n",
       "      <th></th>\n",
       "      <th>ReportAsOfEOD</th>\n",
       "      <th>LoanId</th>\n",
       "      <th>LoanNumber</th>\n",
       "      <th>ListedOnUTC</th>\n",
       "      <th>BiddingStartedOn</th>\n",
       "      <th>BidsPortfolioManager</th>\n",
       "      <th>BidsApi</th>\n",
       "      <th>BidsManual</th>\n",
       "      <th>UserName</th>\n",
       "      <th>NewCreditCustomer</th>\n",
       "      <th>...</th>\n",
       "      <th>PreviousEarlyRepaymentsCountBeforeLoan</th>\n",
       "      <th>GracePeriodStart</th>\n",
       "      <th>GracePeriodEnd</th>\n",
       "      <th>NextPaymentDate</th>\n",
       "      <th>NextPaymentNr</th>\n",
       "      <th>NrOfScheduledPayments</th>\n",
       "      <th>ReScheduledOn</th>\n",
       "      <th>PrincipalDebtServicingCost</th>\n",
       "      <th>InterestAndPenaltyDebtServicingCost</th>\n",
       "      <th>ActiveLateLastPaymentCategory</th>\n",
       "    </tr>\n",
       "  </thead>\n",
       "  <tbody>\n",
       "    <tr>\n",
       "      <th>0</th>\n",
       "      <td>2020-01-27</td>\n",
       "      <td>F0660C80-83F3-4A97-8DA0-9C250112D6EC</td>\n",
       "      <td>659</td>\n",
       "      <td>2009-06-11 16:40:39</td>\n",
       "      <td>2009-06-11 16:40:39</td>\n",
       "      <td>0</td>\n",
       "      <td>0</td>\n",
       "      <td>115.0410</td>\n",
       "      <td>KARU</td>\n",
       "      <td>True</td>\n",
       "      <td>...</td>\n",
       "      <td>0</td>\n",
       "      <td>NaN</td>\n",
       "      <td>NaN</td>\n",
       "      <td>NaN</td>\n",
       "      <td>NaN</td>\n",
       "      <td>NaN</td>\n",
       "      <td>NaN</td>\n",
       "      <td>0.0</td>\n",
       "      <td>0.0</td>\n",
       "      <td>NaN</td>\n",
       "    </tr>\n",
       "    <tr>\n",
       "      <th>1</th>\n",
       "      <td>2020-01-27</td>\n",
       "      <td>978BB85B-1C69-4D51-8447-9C240104A3A2</td>\n",
       "      <td>654</td>\n",
       "      <td>2009-06-10 15:48:57</td>\n",
       "      <td>2009-06-10 15:48:57</td>\n",
       "      <td>0</td>\n",
       "      <td>0</td>\n",
       "      <td>140.6057</td>\n",
       "      <td>koort681</td>\n",
       "      <td>False</td>\n",
       "      <td>...</td>\n",
       "      <td>0</td>\n",
       "      <td>NaN</td>\n",
       "      <td>NaN</td>\n",
       "      <td>NaN</td>\n",
       "      <td>NaN</td>\n",
       "      <td>NaN</td>\n",
       "      <td>NaN</td>\n",
       "      <td>0.0</td>\n",
       "      <td>0.0</td>\n",
       "      <td>NaN</td>\n",
       "    </tr>\n",
       "    <tr>\n",
       "      <th>2</th>\n",
       "      <td>2020-01-27</td>\n",
       "      <td>EA44027E-7FA7-4BB2-846D-9C1F013C8A22</td>\n",
       "      <td>641</td>\n",
       "      <td>2009-06-05 19:12:29</td>\n",
       "      <td>2009-06-05 19:12:29</td>\n",
       "      <td>0</td>\n",
       "      <td>0</td>\n",
       "      <td>319.5580</td>\n",
       "      <td>0ie</td>\n",
       "      <td>True</td>\n",
       "      <td>...</td>\n",
       "      <td>0</td>\n",
       "      <td>NaN</td>\n",
       "      <td>NaN</td>\n",
       "      <td>NaN</td>\n",
       "      <td>NaN</td>\n",
       "      <td>NaN</td>\n",
       "      <td>NaN</td>\n",
       "      <td>0.0</td>\n",
       "      <td>0.0</td>\n",
       "      <td>180+</td>\n",
       "    </tr>\n",
       "    <tr>\n",
       "      <th>3</th>\n",
       "      <td>2020-01-27</td>\n",
       "      <td>CE67AD25-2951-4BEE-96BD-9C2700C61EF4</td>\n",
       "      <td>668</td>\n",
       "      <td>2009-06-13 12:01:20</td>\n",
       "      <td>2009-06-13 12:01:20</td>\n",
       "      <td>0</td>\n",
       "      <td>0</td>\n",
       "      <td>57.5205</td>\n",
       "      <td>Alyona</td>\n",
       "      <td>True</td>\n",
       "      <td>...</td>\n",
       "      <td>0</td>\n",
       "      <td>NaN</td>\n",
       "      <td>NaN</td>\n",
       "      <td>NaN</td>\n",
       "      <td>NaN</td>\n",
       "      <td>NaN</td>\n",
       "      <td>NaN</td>\n",
       "      <td>0.0</td>\n",
       "      <td>0.0</td>\n",
       "      <td>NaN</td>\n",
       "    </tr>\n",
       "    <tr>\n",
       "      <th>4</th>\n",
       "      <td>2020-01-27</td>\n",
       "      <td>9408BF8C-B159-4D6A-9D61-9C2400A986E3</td>\n",
       "      <td>652</td>\n",
       "      <td>2009-06-10 10:17:13</td>\n",
       "      <td>2009-06-10 10:17:13</td>\n",
       "      <td>0</td>\n",
       "      <td>0</td>\n",
       "      <td>319.5582</td>\n",
       "      <td>Kai</td>\n",
       "      <td>True</td>\n",
       "      <td>...</td>\n",
       "      <td>0</td>\n",
       "      <td>NaN</td>\n",
       "      <td>NaN</td>\n",
       "      <td>NaN</td>\n",
       "      <td>NaN</td>\n",
       "      <td>NaN</td>\n",
       "      <td>NaN</td>\n",
       "      <td>0.0</td>\n",
       "      <td>0.0</td>\n",
       "      <td>180+</td>\n",
       "    </tr>\n",
       "  </tbody>\n",
       "</table>\n",
       "<p>5 rows × 112 columns</p>\n",
       "</div>"
      ],
      "text/plain": [
       "  ReportAsOfEOD                                LoanId  LoanNumber  \\\n",
       "0    2020-01-27  F0660C80-83F3-4A97-8DA0-9C250112D6EC         659   \n",
       "1    2020-01-27  978BB85B-1C69-4D51-8447-9C240104A3A2         654   \n",
       "2    2020-01-27  EA44027E-7FA7-4BB2-846D-9C1F013C8A22         641   \n",
       "3    2020-01-27  CE67AD25-2951-4BEE-96BD-9C2700C61EF4         668   \n",
       "4    2020-01-27  9408BF8C-B159-4D6A-9D61-9C2400A986E3         652   \n",
       "\n",
       "           ListedOnUTC     BiddingStartedOn  BidsPortfolioManager  BidsApi  \\\n",
       "0  2009-06-11 16:40:39  2009-06-11 16:40:39                     0        0   \n",
       "1  2009-06-10 15:48:57  2009-06-10 15:48:57                     0        0   \n",
       "2  2009-06-05 19:12:29  2009-06-05 19:12:29                     0        0   \n",
       "3  2009-06-13 12:01:20  2009-06-13 12:01:20                     0        0   \n",
       "4  2009-06-10 10:17:13  2009-06-10 10:17:13                     0        0   \n",
       "\n",
       "   BidsManual  UserName  NewCreditCustomer  ...  \\\n",
       "0    115.0410      KARU               True  ...   \n",
       "1    140.6057  koort681              False  ...   \n",
       "2    319.5580       0ie               True  ...   \n",
       "3     57.5205    Alyona               True  ...   \n",
       "4    319.5582       Kai               True  ...   \n",
       "\n",
       "  PreviousEarlyRepaymentsCountBeforeLoan GracePeriodStart GracePeriodEnd  \\\n",
       "0                                      0              NaN            NaN   \n",
       "1                                      0              NaN            NaN   \n",
       "2                                      0              NaN            NaN   \n",
       "3                                      0              NaN            NaN   \n",
       "4                                      0              NaN            NaN   \n",
       "\n",
       "  NextPaymentDate NextPaymentNr NrOfScheduledPayments  ReScheduledOn  \\\n",
       "0             NaN           NaN                   NaN            NaN   \n",
       "1             NaN           NaN                   NaN            NaN   \n",
       "2             NaN           NaN                   NaN            NaN   \n",
       "3             NaN           NaN                   NaN            NaN   \n",
       "4             NaN           NaN                   NaN            NaN   \n",
       "\n",
       "   PrincipalDebtServicingCost  InterestAndPenaltyDebtServicingCost  \\\n",
       "0                         0.0                                  0.0   \n",
       "1                         0.0                                  0.0   \n",
       "2                         0.0                                  0.0   \n",
       "3                         0.0                                  0.0   \n",
       "4                         0.0                                  0.0   \n",
       "\n",
       "   ActiveLateLastPaymentCategory  \n",
       "0                            NaN  \n",
       "1                            NaN  \n",
       "2                           180+  \n",
       "3                            NaN  \n",
       "4                           180+  \n",
       "\n",
       "[5 rows x 112 columns]"
      ]
     },
     "execution_count": 3,
     "metadata": {},
     "output_type": "execute_result"
    }
   ],
   "source": [
    "df.head()"
   ]
  },
  {
   "cell_type": "code",
   "execution_count": 4,
   "id": "5e12ec14",
   "metadata": {},
   "outputs": [
    {
     "data": {
      "text/plain": [
       "(134529, 112)"
      ]
     },
     "execution_count": 4,
     "metadata": {},
     "output_type": "execute_result"
    }
   ],
   "source": [
    "df.shape"
   ]
  },
  {
   "cell_type": "code",
   "execution_count": 5,
   "id": "e0cf7c05",
   "metadata": {},
   "outputs": [
    {
     "data": {
      "text/plain": [
       "Rating_V0                   96.603706\n",
       "EL_V0                       96.603706\n",
       "CreditScoreEsEquifaxRisk    90.917200\n",
       "Rating_V1                   90.394636\n",
       "EL_V1                       90.394636\n",
       "                              ...    \n",
       "ApplicationSignedHour        0.000000\n",
       "MaturityDate_Last            0.000000\n",
       "MaturityDate_Original        0.000000\n",
       "FirstPaymentDate             0.000000\n",
       "ReportAsOfEOD                0.000000\n",
       "Length: 112, dtype: float64"
      ]
     },
     "execution_count": 5,
     "metadata": {},
     "output_type": "execute_result"
    }
   ],
   "source": [
    "((df.isnull().sum()/df.shape[0])*100).sort_values(ascending=False)"
   ]
  },
  {
   "cell_type": "code",
   "execution_count": 6,
   "id": "caf1624a",
   "metadata": {},
   "outputs": [],
   "source": [
    "col_miss=df.columns[100*(df.isnull().sum()/df.shape[0]) > 40]"
   ]
  },
  {
   "cell_type": "code",
   "execution_count": 7,
   "id": "680127c6",
   "metadata": {},
   "outputs": [],
   "source": [
    "col_miss=col_miss.to_list()"
   ]
  },
  {
   "cell_type": "code",
   "execution_count": 8,
   "id": "4609d2c5",
   "metadata": {},
   "outputs": [],
   "source": [
    "bondora = df.drop(col_miss, axis=1)"
   ]
  },
  {
   "cell_type": "code",
   "execution_count": 9,
   "id": "2114ead1",
   "metadata": {},
   "outputs": [
    {
     "data": {
      "text/plain": [
       "(134529, 76)"
      ]
     },
     "execution_count": 9,
     "metadata": {},
     "output_type": "execute_result"
    }
   ],
   "source": [
    "bondora.shape"
   ]
  },
  {
   "cell_type": "code",
   "execution_count": 10,
   "id": "9e2f2b5b",
   "metadata": {},
   "outputs": [
    {
     "data": {
      "text/plain": [
       "0    2020-01-27\n",
       "1    2020-01-27\n",
       "2    2020-01-27\n",
       "3    2020-01-27\n",
       "4    2020-01-27\n",
       "Name: ReportAsOfEOD, dtype: object"
      ]
     },
     "execution_count": 10,
     "metadata": {},
     "output_type": "execute_result"
    }
   ],
   "source": [
    "bondora['ReportAsOfEOD'].head()"
   ]
  },
  {
   "cell_type": "code",
   "execution_count": 11,
   "id": "3f658ee1",
   "metadata": {},
   "outputs": [
    {
     "data": {
      "text/plain": [
       "array(['2020-01-27'], dtype=object)"
      ]
     },
     "execution_count": 11,
     "metadata": {},
     "output_type": "execute_result"
    }
   ],
   "source": [
    "bondora['ReportAsOfEOD'].unique()"
   ]
  },
  {
   "cell_type": "code",
   "execution_count": 12,
   "id": "41e437de",
   "metadata": {},
   "outputs": [],
   "source": [
    "bondora=bondora.drop(columns=['ReportAsOfEOD','LoanId','LoanNumber','UserName','DateOfBirth'],axis=1)"
   ]
  },
  {
   "cell_type": "markdown",
   "id": "f9e335b6",
   "metadata": {},
   "source": [
    "VerificationType:Method used for loan application data verification 0 Not set 1 Income unverified 2 Income unverified, cross-referenced by phone 3 Income verified 4 Income and expenses verified"
   ]
  },
  {
   "cell_type": "code",
   "execution_count": 16,
   "id": "f218348e",
   "metadata": {},
   "outputs": [],
   "source": [
    "bondora.loc[df['VerificationType']==0.0,'VerificationType'] = 'Not_set'\n",
    "bondora.loc[df['VerificationType']==1.0,'VerificationType'] = 'Income_unverified'\n",
    "bondora.loc[df['VerificationType']==2.0,'VerificationType'] = 'Income_unverified_crossref_phone'\n",
    "bondora.loc[df['VerificationType']==3.0,'VerificationType'] = 'Income_verified'\n",
    "bondora.loc[df['VerificationType']==4.0,'VerificationType'] = 'Income_expenses_verified'"
   ]
  },
  {
   "cell_type": "code",
   "execution_count": 17,
   "id": "e90b130c",
   "metadata": {},
   "outputs": [
    {
     "data": {
      "text/plain": [
       "Income_expenses_verified            41428\n",
       "Income_unverified                   25626\n",
       "Income_verified                      8460\n",
       "Income_unverified_crossref_phone     1827\n",
       "Not_set                                 8\n",
       "Name: VerificationType, dtype: int64"
      ]
     },
     "execution_count": 17,
     "metadata": {},
     "output_type": "execute_result"
    }
   ],
   "source": [
    "bondora.VerificationType.value_counts()"
   ]
  },
  {
   "cell_type": "markdown",
   "id": "9643c5c7",
   "metadata": {},
   "source": [
    "Gender\t0 Male 1 Woman 2 Undefined"
   ]
  },
  {
   "cell_type": "code",
   "execution_count": 18,
   "id": "d810b9ed",
   "metadata": {},
   "outputs": [],
   "source": [
    "bondora.loc[df['Gender']==0.0,'Gender'] = 'male'\n",
    "bondora.loc[df['Gender']==1.0,'Gender'] = 'woman'\n",
    "bondora.loc[df['Gender']==2.0,'Gender'] = 'undefined'"
   ]
  },
  {
   "cell_type": "code",
   "execution_count": 19,
   "id": "eec5794b",
   "metadata": {},
   "outputs": [
    {
     "data": {
      "text/plain": [
       "male         50697\n",
       "woman        20927\n",
       "undefined     5725\n",
       "Name: Gender, dtype: int64"
      ]
     },
     "execution_count": 19,
     "metadata": {},
     "output_type": "execute_result"
    }
   ],
   "source": [
    "bondora.Gender.value_counts()"
   ]
  },
  {
   "cell_type": "markdown",
   "id": "72987e91",
   "metadata": {},
   "source": [
    "LanguageCode\t1 Estonian 2 English 3 Russian 4 Finnish 5 German 6 Spanish 9 Slovakian"
   ]
  },
  {
   "cell_type": "code",
   "execution_count": 20,
   "id": "2eb2601d",
   "metadata": {},
   "outputs": [],
   "source": [
    "bondora.loc[df['LanguageCode']==1.0,'LanguageCode'] = 'Estonian'\n",
    "bondora.loc[df['LanguageCode']==2.0,'LanguageCode'] = 'English'\n",
    "bondora.loc[df['LanguageCode']==3.0,'LanguageCode'] = 'Russian'\n",
    "bondora.loc[df['LanguageCode']==4.0,'LanguageCode'] = 'Finnish'\n",
    "bondora.loc[df['LanguageCode']==5.0,'LanguageCode'] = 'German'\n",
    "bondora.loc[df['LanguageCode']==6.0,'LanguageCode'] = 'Spanish'\n",
    "bondora.loc[df['LanguageCode']==9.0,'LanguageCode'] = 'Slovakian'"
   ]
  },
  {
   "cell_type": "code",
   "execution_count": 21,
   "id": "88d53595",
   "metadata": {},
   "outputs": [
    {
     "data": {
      "text/plain": [
       "Estonian     33239\n",
       "Finnish      20302\n",
       "Spanish      16407\n",
       "Russian       6534\n",
       "English        603\n",
       "Slovakian      293\n",
       "22               6\n",
       "German           5\n",
       "7                1\n",
       "10               1\n",
       "13               1\n",
       "15               1\n",
       "21               1\n",
       "Name: LanguageCode, dtype: int64"
      ]
     },
     "execution_count": 21,
     "metadata": {},
     "output_type": "execute_result"
    }
   ],
   "source": [
    "bondora.LanguageCode.value_counts()"
   ]
  },
  {
   "cell_type": "code",
   "execution_count": 26,
   "id": "5c3588ab",
   "metadata": {},
   "outputs": [],
   "source": [
    "bondora.loc[df['LanguageCode']==22.0,'LanguageCode'] = 'unknown'\n",
    "bondora.loc[df['LanguageCode']==7.0,'LanguageCode'] = 'unknown'\n",
    "bondora.loc[df['LanguageCode']==10.0,'LanguageCode'] = 'unknown'\n",
    "bondora.loc[df['LanguageCode']==13.0,'LanguageCode'] = 'unknown'\n",
    "bondora.loc[df['LanguageCode']==15.0,'LanguageCode'] = 'unknown'\n",
    "bondora.loc[df['LanguageCode']==21.0,'LanguageCode'] = 'unknown'"
   ]
  },
  {
   "cell_type": "code",
   "execution_count": 27,
   "id": "6f9b3f6d",
   "metadata": {},
   "outputs": [
    {
     "data": {
      "text/plain": [
       "Estonian     33239\n",
       "Finnish      20302\n",
       "Spanish      16407\n",
       "Russian       6534\n",
       "English        603\n",
       "Slovakian      293\n",
       "unknown         11\n",
       "German           5\n",
       "Name: LanguageCode, dtype: int64"
      ]
     },
     "execution_count": 27,
     "metadata": {},
     "output_type": "execute_result"
    }
   ],
   "source": [
    "bondora.LanguageCode.value_counts()"
   ]
  },
  {
   "cell_type": "markdown",
   "id": "911174c4",
   "metadata": {},
   "source": [
    "UseOfLoan\t0 Loan consolidation 1 Real estate 2 Home improvement 3 Business 4 Education 5 Travel 6 Vehicle 7 Other 8 Health 101 Working capital financing 102 Purchase of machinery equipment 103 Renovation of real estate 104 Accounts receivable financing 105 Acquisition of means of transport 106 Construction finance 107 Acquisition of stocks 108 Acquisition of real estate 109 Guaranteeing obligation 110 Other business All codes in format 1XX are for business loans that are not supported since October 2012"
   ]
  },
  {
   "cell_type": "code",
   "execution_count": 28,
   "id": "595059c7",
   "metadata": {},
   "outputs": [],
   "source": [
    "bondora.loc[df['UseOfLoan']==0,'UseOfLoan'] = 'Loan_consolidation'\n",
    "bondora.loc[df['UseOfLoan']==1,'UseOfLoan'] = 'Real_estate'\n",
    "bondora.loc[df['UseOfLoan']==2,'UseOfLoan'] = 'Home_improvement'\n",
    "bondora.loc[df['UseOfLoan']==3,'UseOfLoan'] = 'Business'\n",
    "bondora.loc[df['UseOfLoan']==4,'UseOfLoan'] = 'Education'\n",
    "bondora.loc[df['UseOfLoan']==5,'UseOfLoan'] = 'Travel'\n",
    "bondora.loc[df['UseOfLoan']==6,'UseOfLoan'] = 'Vehicle'\n",
    "bondora.loc[df['UseOfLoan']==7,'UseOfLoan'] = 'Other'\n",
    "bondora.loc[df['UseOfLoan']==8,'UseOfLoan'] = 'Health'\n",
    "bondora.loc[df['UseOfLoan']==101,'UseOfLoan'] = 'Working_capital_financing'\n",
    "bondora.loc[df['UseOfLoan']==102,'UseOfLoan'] = 'Purchase_of_machinery_equipment'\n",
    "bondora.loc[df['UseOfLoan']==104,'UseOfLoan'] = 'Accounts_receivable_financing'\n",
    "bondora.loc[df['UseOfLoan']==106,'UseOfLoan'] = 'Construction_finance'\n",
    "bondora.loc[df['UseOfLoan']==107,'UseOfLoan'] = 'Acquisition_of_stocks'\n",
    "bondora.loc[df['UseOfLoan']==108,'UseOfLoan'] = 'Acquisition_of_real_estate'\n",
    "bondora.loc[df['UseOfLoan']==110,'UseOfLoan'] = 'Other_business'"
   ]
  },
  {
   "cell_type": "code",
   "execution_count": 29,
   "id": "38dc626a",
   "metadata": {},
   "outputs": [
    {
     "data": {
      "text/plain": [
       "-1                                 44177\n",
       "Other                               8926\n",
       "Home_improvement                    8102\n",
       "Loan_consolidation                  6419\n",
       "Vehicle                             2884\n",
       "Business                            1743\n",
       "Travel                              1621\n",
       "Health                              1367\n",
       "Education                           1259\n",
       "Real_estate                          843\n",
       "Purchase_of_machinery_equipment       21\n",
       "Other_business                        17\n",
       "Accounts_receivable_financing          6\n",
       "Working_capital_financing              5\n",
       "Acquisition_of_stocks                  2\n",
       "Acquisition_of_real_estate             1\n",
       "Construction_finance                   1\n",
       "Name: UseOfLoan, dtype: int64"
      ]
     },
     "execution_count": 29,
     "metadata": {},
     "output_type": "execute_result"
    }
   ],
   "source": [
    "bondora.UseOfLoan.value_counts()"
   ]
  },
  {
   "cell_type": "code",
   "execution_count": 30,
   "id": "87e95825",
   "metadata": {},
   "outputs": [],
   "source": [
    "bondora.loc[df['UseOfLoan']==-1,'UseOfLoan'] = 'unknown'"
   ]
  },
  {
   "cell_type": "code",
   "execution_count": 31,
   "id": "0f2781f6",
   "metadata": {},
   "outputs": [
    {
     "data": {
      "text/plain": [
       "unknown                            44177\n",
       "Other                               8926\n",
       "Home_improvement                    8102\n",
       "Loan_consolidation                  6419\n",
       "Vehicle                             2884\n",
       "Business                            1743\n",
       "Travel                              1621\n",
       "Health                              1367\n",
       "Education                           1259\n",
       "Real_estate                          843\n",
       "Purchase_of_machinery_equipment       21\n",
       "Other_business                        17\n",
       "Accounts_receivable_financing          6\n",
       "Working_capital_financing              5\n",
       "Acquisition_of_stocks                  2\n",
       "Acquisition_of_real_estate             1\n",
       "Construction_finance                   1\n",
       "Name: UseOfLoan, dtype: int64"
      ]
     },
     "execution_count": 31,
     "metadata": {},
     "output_type": "execute_result"
    }
   ],
   "source": [
    "bondora.UseOfLoan.value_counts()"
   ]
  },
  {
   "cell_type": "markdown",
   "id": "941d5824",
   "metadata": {},
   "source": [
    "Education\t1 Primary education 2 Basic education 3 Vocational education 4 Secondary education 5 Higher education"
   ]
  },
  {
   "cell_type": "code",
   "execution_count": 33,
   "id": "c8792aec",
   "metadata": {},
   "outputs": [],
   "source": [
    "bondora.loc[df['Education']==1,'Education'] = 'Primary'\n",
    "bondora.loc[df['Education']==2,'Education'] = 'Basic'\n",
    "bondora.loc[df['Education']==3,'Education'] = 'Vocational'\n",
    "bondora.loc[df['Education']==4,'Education'] = 'Secondary'\n",
    "bondora.loc[df['Education']==5,'Education'] = 'Higher'"
   ]
  },
  {
   "cell_type": "code",
   "execution_count": 34,
   "id": "55665c6f",
   "metadata": {},
   "outputs": [
    {
     "data": {
      "text/plain": [
       "Secondary             28557\n",
       "Higher                20919\n",
       "Vocational            17257\n",
       "Basic                  5379\n",
       "Primary                5226\n",
       "Loan_consolidation        8\n",
       "-1.0                      3\n",
       "Name: Education, dtype: int64"
      ]
     },
     "execution_count": 34,
     "metadata": {},
     "output_type": "execute_result"
    }
   ],
   "source": [
    "bondora.Education.value_counts()"
   ]
  },
  {
   "cell_type": "code",
   "execution_count": 35,
   "id": "3b9feaed",
   "metadata": {},
   "outputs": [],
   "source": [
    "bondora.loc[df['Education']==-1,'Education'] = 'unknown'"
   ]
  },
  {
   "cell_type": "code",
   "execution_count": 36,
   "id": "42960b79",
   "metadata": {},
   "outputs": [
    {
     "data": {
      "text/plain": [
       "Secondary             28557\n",
       "Higher                20919\n",
       "Vocational            17257\n",
       "Basic                  5379\n",
       "Primary                5226\n",
       "Loan_consolidation        8\n",
       "unknown                   3\n",
       "Name: Education, dtype: int64"
      ]
     },
     "execution_count": 36,
     "metadata": {},
     "output_type": "execute_result"
    }
   ],
   "source": [
    "bondora.Education.value_counts()"
   ]
  },
  {
   "cell_type": "markdown",
   "id": "e55cb1b4",
   "metadata": {},
   "source": [
    "MaritalStatus\t1 Married 2 Cohabitant 3 Single 4 Divorced 5 Widow"
   ]
  },
  {
   "cell_type": "code",
   "execution_count": 37,
   "id": "6999b00f",
   "metadata": {},
   "outputs": [
    {
     "data": {
      "text/plain": [
       "-1.0    44177\n",
       " 3.0    11504\n",
       " 1.0     9585\n",
       " 2.0     8479\n",
       " 4.0     3077\n",
       " 5.0      519\n",
       " 0.0        8\n",
       "Name: MaritalStatus, dtype: int64"
      ]
     },
     "execution_count": 37,
     "metadata": {},
     "output_type": "execute_result"
    }
   ],
   "source": [
    "bondora.MaritalStatus.value_counts()"
   ]
  },
  {
   "cell_type": "code",
   "execution_count": 39,
   "id": "12d9f08b",
   "metadata": {},
   "outputs": [],
   "source": [
    "bondora.loc[df['MaritalStatus']==-1,'MaritalStatus'] = 'unknown'\n",
    "bondora.loc[df['MaritalStatus']==0,'MaritalStatus'] = 'unknown'\n",
    "bondora.loc[df['MaritalStatus']==1,'MaritalStatus'] = 'Married'\n",
    "bondora.loc[df['MaritalStatus']==2,'MaritalStatus'] = 'Cohabitant'\n",
    "bondora.loc[df['MaritalStatus']==3,'MaritalStatus'] = 'Single'\n",
    "bondora.loc[df['MaritalStatus']==4,'MaritalStatus'] = 'Divorced'\n",
    "bondora.loc[df['MaritalStatus']==5,'MaritalStatus'] = 'Widow'"
   ]
  },
  {
   "cell_type": "markdown",
   "id": "cb6e3868",
   "metadata": {},
   "source": [
    "EmploymentStatus\t1 Unemployed 2 Partially employed 3 Fully employed 4 Self-employed 5 Entrepreneur 6 Retiree"
   ]
  },
  {
   "cell_type": "code",
   "execution_count": 40,
   "id": "35981f86",
   "metadata": {},
   "outputs": [
    {
     "data": {
      "text/plain": [
       "-1.0    44177\n",
       " 3.0    27309\n",
       " 5.0     1695\n",
       " 6.0     1663\n",
       " 4.0     1211\n",
       " 2.0     1110\n",
       " 0.0       32\n",
       "Name: EmploymentStatus, dtype: int64"
      ]
     },
     "execution_count": 40,
     "metadata": {},
     "output_type": "execute_result"
    }
   ],
   "source": [
    "bondora.EmploymentStatus.value_counts()"
   ]
  },
  {
   "cell_type": "code",
   "execution_count": 41,
   "id": "9d905d18",
   "metadata": {},
   "outputs": [],
   "source": [
    "bondora.loc[df['EmploymentStatus']==-1,'EmploymentStatus'] = 'unknown'\n",
    "bondora.loc[df['EmploymentStatus']==0,'EmploymentStatus'] = 'unknown'\n",
    "bondora.loc[df['EmploymentStatus']==1,'EmploymentStatus'] = 'Unemployed'\n",
    "bondora.loc[df['EmploymentStatus']==2,'EmploymentStatus'] = 'Partially'\n",
    "bondora.loc[df['EmploymentStatus']==3,'EmploymentStatus'] = 'Fully'\n",
    "bondora.loc[df['EmploymentStatus']==4,'EmploymentStatus'] = 'Self_employed'\n",
    "bondora.loc[df['EmploymentStatus']==5,'EmploymentStatus'] = 'Entrepreneur'\n",
    "bondora.loc[df['EmploymentStatus']==6,'EmploymentStatus'] = 'Retiree'"
   ]
  },
  {
   "cell_type": "markdown",
   "id": "f8c29979",
   "metadata": {},
   "source": [
    "NewCreditCustomer\tDid the customer have prior credit history in Bondora 0 Customer had at least 3 months of credit history in Bondora 1 No prior credit history in Bondora"
   ]
  },
  {
   "cell_type": "markdown",
   "id": "c3c87828",
   "metadata": {},
   "source": [
    "OccupationArea\t1 Other 2 Mining 3 Processing 4 Energy 5 Utilities 6 Construction 7 Retail and wholesale 8 Transport and warehousing 9 Hospitality and catering 10 Info and telecom 11 Finance and insurance 12 Real-estate 13 Research 14 Administrative 15 Civil service & military 16 Education 17 Healthcare and social help 18 Art and entertainment 19 Agriculture, forestry and fishing"
   ]
  },
  {
   "cell_type": "code",
   "execution_count": 43,
   "id": "8fd8161d",
   "metadata": {},
   "outputs": [
    {
     "data": {
      "text/plain": [
       "-1.0     44228\n",
       " 1.0      7640\n",
       " 7.0      3207\n",
       " 6.0      3007\n",
       " 3.0      2876\n",
       " 8.0      2276\n",
       " 17.0     2186\n",
       " 9.0      2106\n",
       " 10.0     1782\n",
       " 15.0     1555\n",
       " 16.0     1251\n",
       " 11.0     1054\n",
       " 19.0      893\n",
       " 14.0      798\n",
       " 4.0       530\n",
       " 18.0      524\n",
       " 13.0      493\n",
       " 12.0      433\n",
       " 5.0       342\n",
       " 2.0       116\n",
       " 0.0        11\n",
       "Name: OccupationArea, dtype: int64"
      ]
     },
     "execution_count": 43,
     "metadata": {},
     "output_type": "execute_result"
    }
   ],
   "source": [
    "bondora.OccupationArea.value_counts()"
   ]
  },
  {
   "cell_type": "code",
   "execution_count": 44,
   "id": "ca44b200",
   "metadata": {},
   "outputs": [],
   "source": [
    "bondora.loc[df['OccupationArea']==-1,'OccupationArea'] = 'unknown'\n",
    "bondora.loc[df['OccupationArea']==0,'OccupationArea'] = 'unknown'\n",
    "bondora.loc[df['OccupationArea']==1,'OccupationArea'] = 'Other'\n",
    "bondora.loc[df['OccupationArea']==2,'OccupationArea'] = 'Mining'\n",
    "bondora.loc[df['OccupationArea']==3,'OccupationArea'] = 'Processing'\n",
    "bondora.loc[df['OccupationArea']==4,'OccupationArea'] = 'Energy'\n",
    "bondora.loc[df['OccupationArea']==5,'OccupationArea'] = 'Utilities'\n",
    "bondora.loc[df['OccupationArea']==6,'OccupationArea'] = 'Construction'\n",
    "bondora.loc[df['OccupationArea']==7,'OccupationArea'] = 'Retail_and_wholesale'\n",
    "bondora.loc[df['OccupationArea']==8,'OccupationArea'] = 'Transport_and_warehousing'\n",
    "bondora.loc[df['OccupationArea']==9,'OccupationArea'] = 'Hospitality_and_catering'\n",
    "bondora.loc[df['OccupationArea']==10,'OccupationArea'] = 'Info_and_telecom'\n",
    "bondora.loc[df['OccupationArea']==11,'OccupationArea'] = 'Finance_and_insurance'\n",
    "bondora.loc[df['OccupationArea']==12,'OccupationArea'] = 'Real_estate'\n",
    "bondora.loc[df['OccupationArea']==13,'OccupationArea'] = 'Research'\n",
    "bondora.loc[df['OccupationArea']==14,'OccupationArea'] = 'Administrative'\n",
    "bondora.loc[df['OccupationArea']==15,'OccupationArea'] = 'Civil_service_and_military'\n",
    "bondora.loc[df['OccupationArea']==16,'OccupationArea'] = 'Education'\n",
    "bondora.loc[df['OccupationArea']==17,'OccupationArea'] = 'Healthcare_and_social_help'\n",
    "bondora.loc[df['OccupationArea']==18,'OccupationArea'] = 'Art_and_entertainment'\n",
    "bondora.loc[df['OccupationArea']==19,'OccupationArea'] = 'Agriculture_forestry_and_fishing'"
   ]
  },
  {
   "cell_type": "markdown",
   "id": "bc25073a",
   "metadata": {},
   "source": [
    "HomeOwnershipType\t0 Homeless 1 Owner 2 Living with parents 3 Tenant, pre-furnished property 4 Tenant, unfurnished property 5 Council house 6 Joint tenant 7 Joint ownership 8 Mortgage 9 Owner with encumbrance 10 Other"
   ]
  },
  {
   "cell_type": "code",
   "execution_count": 46,
   "id": "43b59149",
   "metadata": {},
   "outputs": [
    {
     "data": {
      "text/plain": [
       " 1.0     24594\n",
       " 3.0     16842\n",
       " 2.0     12776\n",
       " 8.0      8762\n",
       " 4.0      4031\n",
       " 10.0     3179\n",
       " 7.0      2701\n",
       " 6.0      1362\n",
       " 5.0       882\n",
       " 9.0       565\n",
       " 0.0        46\n",
       "-1.0         2\n",
       "Name: HomeOwnershipType, dtype: int64"
      ]
     },
     "execution_count": 46,
     "metadata": {},
     "output_type": "execute_result"
    }
   ],
   "source": [
    "bondora.HomeOwnershipType.value_counts()"
   ]
  },
  {
   "cell_type": "code",
   "execution_count": 47,
   "id": "7e92b25e",
   "metadata": {},
   "outputs": [],
   "source": [
    "bondora.loc[df['HomeOwnershipType']==-1,'HomeOwnershipType'] = 'unknown'\n",
    "bondora.loc[df['HomeOwnershipType']==0,'HomeOwnershipType'] = 'Homeless'\n",
    "bondora.loc[df['HomeOwnershipType']==1,'HomeOwnershipType'] = 'Owner'\n",
    "bondora.loc[df['HomeOwnershipType']==2,'HomeOwnershipType'] = 'Living_with_parents'\n",
    "bondora.loc[df['HomeOwnershipType']==3,'HomeOwnershipType'] = 'Tenant_pre_furnished_property'\n",
    "bondora.loc[df['HomeOwnershipType']==4,'HomeOwnershipType'] = 'Tenant_unfurnished_property'\n",
    "bondora.loc[df['HomeOwnershipType']==5,'HomeOwnershipType'] = 'Council_house'\n",
    "bondora.loc[df['HomeOwnershipType']==6,'HomeOwnershipType'] = 'Joint_tenant'\n",
    "bondora.loc[df['HomeOwnershipType']==7,'HomeOwnershipType'] = 'Joint_ownership'\n",
    "bondora.loc[df['HomeOwnershipType']==8,'HomeOwnershipType'] = 'Mortgage'\n",
    "bondora.loc[df['HomeOwnershipType']==9,'HomeOwnershipType'] = 'Owner_with_encumbrance'\n",
    "bondora.loc[df['HomeOwnershipType']==10,'HomeOwnershipType'] = 'Other'"
   ]
  },
  {
   "cell_type": "code",
   "execution_count": null,
   "id": "ce9377e0",
   "metadata": {},
   "outputs": [],
   "source": [
    "bondora.Status.value_counts()"
   ]
  },
  {
   "cell_type": "code",
   "execution_count": null,
   "id": "aa343325",
   "metadata": {},
   "outputs": [],
   "source": [
    "bondora = bondora[bondora['Status'] != 'Current']\n",
    "bondora[\"default\"] = bondora['Status'].apply(lambda x: 0 if x=='Repaid' else 1)"
   ]
  },
  {
   "cell_type": "code",
   "execution_count": null,
   "id": "aee96280",
   "metadata": {},
   "outputs": [],
   "source": [
    "bondora = bondora.drop(['Status'],axis=1)"
   ]
  }
 ],
 "metadata": {
  "kernelspec": {
   "display_name": "Python 3",
   "language": "python",
   "name": "python3"
  },
  "language_info": {
   "codemirror_mode": {
    "name": "ipython",
    "version": 3
   },
   "file_extension": ".py",
   "mimetype": "text/x-python",
   "name": "python",
   "nbconvert_exporter": "python",
   "pygments_lexer": "ipython3",
   "version": "3.8.8"
  }
 },
 "nbformat": 4,
 "nbformat_minor": 5
}
